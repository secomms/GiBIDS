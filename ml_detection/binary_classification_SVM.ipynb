{
 "cells": [
  {
   "cell_type": "markdown",
   "source": [
    "# SVM-RBF Binary Classification task"
   ],
   "metadata": {
    "collapsed": false
   }
  },
  {
   "cell_type": "markdown",
   "source": [
    "In this jupyter notebook classification tasks are executed and shown for each $\\sigma$ and $\\omega$ values combination.\n",
    "\n",
    "Depending on the augmented dataset generated, execute the correct cell and eventually change the *subdir_name* variable\n",
    "if customized in `/graph_based_features_generation/main0.py` "
   ],
   "metadata": {
    "collapsed": false
   }
  },
  {
   "cell_type": "code",
   "execution_count": 1,
   "metadata": {
    "collapsed": true,
    "ExecuteTime": {
     "end_time": "2023-09-28T09:12:44.066262Z",
     "start_time": "2023-09-28T09:12:41.786440Z"
    }
   },
   "outputs": [],
   "source": [
    "from svm_binary_classification import start_SVM"
   ]
  },
  {
   "cell_type": "code",
   "execution_count": 2,
   "outputs": [],
   "source": [
    "subdir_name = '/all_days'"
   ],
   "metadata": {
    "collapsed": false,
    "ExecuteTime": {
     "end_time": "2023-09-28T09:12:44.069214Z",
     "start_time": "2023-09-28T09:12:44.066551Z"
    }
   }
  },
  {
   "cell_type": "markdown",
   "source": [
    "# Sigma 1000"
   ],
   "metadata": {
    "collapsed": false
   }
  },
  {
   "cell_type": "markdown",
   "source": [
    "## Mode 0"
   ],
   "metadata": {
    "collapsed": false
   }
  },
  {
   "cell_type": "code",
   "execution_count": 3,
   "outputs": [
    {
     "name": "stdout",
     "output_type": "stream",
     "text": [
      "Loading data... \n",
      "10CV Training... \n",
      "F1-Score 10CV: [1.         0.99963886 1.         1.         1.         1.\n",
      " 1.         1.         1.         1.        ]\n",
      "F1-Score avg: 0.9999638858793787\n",
      "F1-Score std. dev. : 0.00010834236186350043\n",
      "Training...\n",
      "Testing... \n",
      "Suport Vectors: [5 4]\n",
      "\n",
      "ML Metrics\n"
     ]
    },
    {
     "data": {
      "text/plain": "<Figure size 300x300 with 2 Axes>",
      "image/png": "[encoded data removed]"
     },
     "metadata": {},
     "output_type": "display_data"
    },
    {
     "name": "stdout",
     "output_type": "stream",
     "text": [
      "   Accuracy  Precision  Recall  F1-Score  Support\n",
      "0    0.9988     0.9985  0.9998    0.9991  1311105\n",
      "1    0.9988     0.9995  0.9963    0.9979   543811\n",
      "FPR = 0.0002158484637004664\n",
      "FNR = 0.003707170322042033\n",
      "AUC = 0.9980384906071287\n",
      "\n",
      "CLASSIFICATION ERRORS: \n",
      "                            errors  error_percent\n",
      "BENIGN                         283       0.000216\n",
      "Bot                           1966       1.000000\n",
      "DDoS                             3       0.000023\n",
      "DoS GoldenEye                    0       0.000000\n",
      "DoS Hulk                         0       0.000000\n",
      "DoS Slowhttptest                 0       0.000000\n",
      "DoS slowloris                    0       0.000000\n",
      "Heartbleed                      11       1.000000\n",
      "Infiltration                    36       1.000000\n",
      "PortScan                         0       0.000000\n",
      "Web Attack – Brute Force         0       0.000000\n",
      "Web Attack – Sql Injection       0       0.000000\n",
      "Web Attack – XSS                 0       0.000000\n"
     ]
    }
   ],
   "source": [
    "sigma = '1000'\n",
    "mode = 0\n",
    "start_SVM(sigma, mode, subdir_name)"
   ],
   "metadata": {
    "collapsed": false,
    "ExecuteTime": {
     "end_time": "2023-09-28T09:13:02.479423Z",
     "start_time": "2023-09-28T09:12:45.967526Z"
    }
   }
  },
  {
   "cell_type": "markdown",
   "source": [
    "## Mode 1"
   ],
   "metadata": {
    "collapsed": false
   }
  },
  {
   "cell_type": "code",
   "execution_count": 6,
   "outputs": [
    {
     "name": "stdout",
     "output_type": "stream",
     "text": [
      "Loading data... \n",
      "10CV Training... \n",
      "F1-Score 10CV: [1.         0.99963886 1.         1.         1.         1.\n",
      " 1.         1.         1.         1.        ]\n",
      "F1-Score avg: 0.9999638858793787\n",
      "F1-Score std. dev. : 0.00010834236186350043\n",
      "Training...\n",
      "Testing... \n",
      "Suport Vectors: [47 46]\n",
      "\n",
      "ML Metrics\n"
     ]
    },
    {
     "data": {
      "text/plain": "<Figure size 300x300 with 2 Axes>",
      "image/png": "[encoded data removed]"
     },
     "metadata": {},
     "output_type": "display_data"
    },
    {
     "name": "stdout",
     "output_type": "stream",
     "text": [
      "   Accuracy  Precision  Recall  F1-Score  Support\n",
      "0    0.7132     0.7117  0.9988    0.8312  1311105\n",
      "1    0.7132     0.8915  0.0247    0.0481   543811\n",
      "FPR = 0.0012470397107783129\n",
      "FNR = 0.9753057588022309\n",
      "AUC = 0.5117236007434953\n",
      "\n",
      "CLASSIFICATION ERRORS: \n",
      "                            errors  error_percent\n",
      "BENIGN                        1635       0.001247\n",
      "Bot                           1966       1.000000\n",
      "DDoS                        128027       1.000000\n",
      "DoS GoldenEye                10293       1.000000\n",
      "DoS Hulk                    228950       0.990812\n",
      "DoS Slowhttptest                 0       0.000000\n",
      "DoS slowloris                    0       0.000000\n",
      "Heartbleed                       0       0.000000\n",
      "Infiltration                    36       1.000000\n",
      "PortScan                    158930       1.000000\n",
      "Web Attack – Brute Force      1507       1.000000\n",
      "Web Attack – Sql Injection      21       1.000000\n",
      "Web Attack – XSS               652       1.000000\n"
     ]
    }
   ],
   "source": [
    "sigma = '1000'\n",
    "mode = 1\n",
    "start_SVM(sigma, mode, subdir_name)"
   ],
   "metadata": {
    "collapsed": false,
    "ExecuteTime": {
     "end_time": "2023-09-26T14:42:22.311263Z",
     "start_time": "2023-09-26T14:42:01.753983Z"
    }
   }
  },
  {
   "cell_type": "markdown",
   "source": [
    "## Mode 2"
   ],
   "metadata": {
    "collapsed": false
   }
  },
  {
   "cell_type": "code",
   "execution_count": 7,
   "outputs": [
    {
     "name": "stdout",
     "output_type": "stream",
     "text": [
      "Loading data... \n",
      "10CV Training... \n",
      "F1-Score 10CV: [1.         0.99963886 1.         1.         1.         1.\n",
      " 1.         1.         1.         1.        ]\n",
      "F1-Score avg: 0.9999638858793787\n",
      "F1-Score std. dev. : 0.00010834236186350043\n",
      "Training...\n",
      "Testing... \n",
      "Suport Vectors: [5 4]\n",
      "\n",
      "ML Metrics\n"
     ]
    },
    {
     "data": {
      "text/plain": "<Figure size 300x300 with 2 Axes>",
      "image/png": "[encoded data removed]"
     },
     "metadata": {},
     "output_type": "display_data"
    },
    {
     "name": "stdout",
     "output_type": "stream",
     "text": [
      "   Accuracy  Precision  Recall  F1-Score  Support\n",
      "0    0.9988     0.9985  0.9998    0.9991  1311105\n",
      "1    0.9988     0.9995  0.9963    0.9979   543811\n",
      "FPR = 0.0002158484637004664\n",
      "FNR = 0.003707170322042033\n",
      "AUC = 0.9980384906071287\n",
      "\n",
      "CLASSIFICATION ERRORS: \n",
      "                            errors  error_percent\n",
      "BENIGN                         283       0.000216\n",
      "Bot                           1966       1.000000\n",
      "DDoS                             3       0.000023\n",
      "DoS GoldenEye                    0       0.000000\n",
      "DoS Hulk                         0       0.000000\n",
      "DoS Slowhttptest                 0       0.000000\n",
      "DoS slowloris                    0       0.000000\n",
      "Heartbleed                      11       1.000000\n",
      "Infiltration                    36       1.000000\n",
      "PortScan                         0       0.000000\n",
      "Web Attack – Brute Force         0       0.000000\n",
      "Web Attack – Sql Injection       0       0.000000\n",
      "Web Attack – XSS                 0       0.000000\n"
     ]
    }
   ],
   "source": [
    "sigma = '1000'\n",
    "mode = 2\n",
    "start_SVM(sigma, mode, subdir_name)"
   ],
   "metadata": {
    "collapsed": false,
    "ExecuteTime": {
     "end_time": "2023-09-26T14:42:36.818233Z",
     "start_time": "2023-09-26T14:42:22.310326Z"
    }
   }
  },
  {
   "cell_type": "markdown",
   "source": [
    "# Sigma 5000"
   ],
   "metadata": {
    "collapsed": false
   }
  },
  {
   "cell_type": "markdown",
   "source": [
    "## Mode 0"
   ],
   "metadata": {
    "collapsed": false
   }
  },
  {
   "cell_type": "code",
   "execution_count": 8,
   "outputs": [
    {
     "name": "stdout",
     "output_type": "stream",
     "text": [
      "Loading data... \n",
      "10CV Training... \n",
      "F1-Score 10CV: [1.         0.99963886 1.         1.         1.         1.\n",
      " 1.         1.         1.         1.        ]\n",
      "F1-Score avg: 0.9999638858793787\n",
      "F1-Score std. dev. : 0.00010834236186350043\n",
      "Training...\n",
      "Testing... \n",
      "Suport Vectors: [5 4]\n",
      "\n",
      "ML Metrics\n"
     ]
    },
    {
     "data": {
      "text/plain": "<Figure size 300x300 with 2 Axes>",
      "image/png": "[encoded data removed]"
     },
     "metadata": {},
     "output_type": "display_data"
    },
    {
     "name": "stdout",
     "output_type": "stream",
     "text": [
      "   Accuracy  Precision  Recall  F1-Score  Support\n",
      "0    0.9988     0.9985  0.9998    0.9991  1311105\n",
      "1    0.9988     0.9995  0.9963    0.9979   543811\n",
      "FPR = 0.00020745859408666736\n",
      "FNR = 0.003707170322042033\n",
      "AUC = 0.9980426855419356\n",
      "\n",
      "CLASSIFICATION ERRORS: \n",
      "                            errors  error_percent\n",
      "BENIGN                         272       0.000207\n",
      "Bot                           1966       1.000000\n",
      "DDoS                             3       0.000023\n",
      "DoS GoldenEye                    0       0.000000\n",
      "DoS Hulk                         0       0.000000\n",
      "DoS Slowhttptest                 0       0.000000\n",
      "DoS slowloris                    0       0.000000\n",
      "Heartbleed                      11       1.000000\n",
      "Infiltration                    36       1.000000\n",
      "PortScan                         0       0.000000\n",
      "Web Attack – Brute Force         0       0.000000\n",
      "Web Attack – Sql Injection       0       0.000000\n",
      "Web Attack – XSS                 0       0.000000\n"
     ]
    }
   ],
   "source": [
    "sigma = '5000'\n",
    "mode = 0\n",
    "start_SVM(sigma, mode, subdir_name)"
   ],
   "metadata": {
    "collapsed": false,
    "ExecuteTime": {
     "end_time": "2023-09-26T14:42:51.248620Z",
     "start_time": "2023-09-26T14:42:36.817349Z"
    }
   }
  },
  {
   "cell_type": "markdown",
   "source": [
    "## Mode 1"
   ],
   "metadata": {
    "collapsed": false
   }
  },
  {
   "cell_type": "code",
   "execution_count": 9,
   "outputs": [
    {
     "name": "stdout",
     "output_type": "stream",
     "text": [
      "Loading data... \n",
      "10CV Training... \n",
      "F1-Score 10CV: [1.         0.99963886 1.         1.         1.         1.\n",
      " 1.         1.         1.         1.        ]\n",
      "F1-Score avg: 0.9999638858793787\n",
      "F1-Score std. dev. : 0.00010834236186350043\n",
      "Training...\n",
      "Testing... \n",
      "Suport Vectors: [47 47]\n",
      "\n",
      "ML Metrics\n"
     ]
    },
    {
     "data": {
      "text/plain": "<Figure size 300x300 with 2 Axes>",
      "image/png": "[encoded data removed]"
     },
     "metadata": {},
     "output_type": "display_data"
    },
    {
     "name": "stdout",
     "output_type": "stream",
     "text": [
      "   Accuracy  Precision  Recall  F1-Score  Support\n",
      "0     0.712     0.7109  0.9987    0.8306  1311105\n",
      "1     0.712     0.8732  0.0208    0.0406   543811\n",
      "FPR = 0.0012523787187143668\n",
      "FNR = 0.9792096886602146\n",
      "AUC = 0.5097689663105355\n",
      "\n",
      "CLASSIFICATION ERRORS: \n",
      "                            errors  error_percent\n",
      "BENIGN                        1642       0.001252\n",
      "Bot                           1966       1.000000\n",
      "DDoS                        128027       1.000000\n",
      "DoS GoldenEye                10293       1.000000\n",
      "DoS Hulk                    231073       1.000000\n",
      "DoS Slowhttptest                 0       0.000000\n",
      "DoS slowloris                    0       0.000000\n",
      "Heartbleed                       0       0.000000\n",
      "Infiltration                    36       1.000000\n",
      "PortScan                    158930       1.000000\n",
      "Web Attack – Brute Force      1507       1.000000\n",
      "Web Attack – Sql Injection      21       1.000000\n",
      "Web Attack – XSS               652       1.000000\n"
     ]
    }
   ],
   "source": [
    "sigma = '5000'\n",
    "mode = 1\n",
    "start_SVM(sigma, mode, subdir_name)"
   ],
   "metadata": {
    "collapsed": false,
    "ExecuteTime": {
     "end_time": "2023-09-26T14:43:11.372612Z",
     "start_time": "2023-09-26T14:42:51.249368Z"
    }
   }
  },
  {
   "cell_type": "markdown",
   "source": [
    "## Mode 2"
   ],
   "metadata": {
    "collapsed": false
   }
  },
  {
   "cell_type": "code",
   "execution_count": 10,
   "outputs": [
    {
     "name": "stdout",
     "output_type": "stream",
     "text": [
      "Loading data... \n",
      "10CV Training... \n",
      "F1-Score 10CV: [1.         0.99963886 1.         1.         1.         1.\n",
      " 1.         1.         1.         1.        ]\n",
      "F1-Score avg: 0.9999638858793787\n",
      "F1-Score std. dev. : 0.00010834236186350043\n",
      "Training...\n",
      "Testing... \n",
      "Suport Vectors: [5 4]\n",
      "\n",
      "ML Metrics\n"
     ]
    },
    {
     "data": {
      "text/plain": "<Figure size 300x300 with 2 Axes>",
      "image/png": "[encoded data removed]"
     },
     "metadata": {},
     "output_type": "display_data"
    },
    {
     "name": "stdout",
     "output_type": "stream",
     "text": [
      "   Accuracy  Precision  Recall  F1-Score  Support\n",
      "0    0.9988     0.9985  0.9998    0.9991  1311105\n",
      "1    0.9988     0.9995  0.9963    0.9979   543811\n",
      "FPR = 0.00020745859408666736\n",
      "FNR = 0.003707170322042033\n",
      "AUC = 0.9980426855419356\n",
      "\n",
      "CLASSIFICATION ERRORS: \n",
      "                            errors  error_percent\n",
      "BENIGN                         272       0.000207\n",
      "Bot                           1966       1.000000\n",
      "DDoS                             3       0.000023\n",
      "DoS GoldenEye                    0       0.000000\n",
      "DoS Hulk                         0       0.000000\n",
      "DoS Slowhttptest                 0       0.000000\n",
      "DoS slowloris                    0       0.000000\n",
      "Heartbleed                      11       1.000000\n",
      "Infiltration                    36       1.000000\n",
      "PortScan                         0       0.000000\n",
      "Web Attack – Brute Force         0       0.000000\n",
      "Web Attack – Sql Injection       0       0.000000\n",
      "Web Attack – XSS                 0       0.000000\n"
     ]
    }
   ],
   "source": [
    "sigma = '5000'\n",
    "mode = 2\n",
    "start_SVM(sigma, mode, subdir_name)"
   ],
   "metadata": {
    "collapsed": false,
    "ExecuteTime": {
     "end_time": "2023-09-26T14:43:26.326434Z",
     "start_time": "2023-09-26T14:43:11.371493Z"
    }
   }
  },
  {
   "cell_type": "markdown",
   "source": [
    "# Sigma 0"
   ],
   "metadata": {
    "collapsed": false
   }
  },
  {
   "cell_type": "markdown",
   "source": [
    "## Mode 0"
   ],
   "metadata": {
    "collapsed": false
   }
  },
  {
   "cell_type": "code",
   "execution_count": 11,
   "outputs": [
    {
     "name": "stdout",
     "output_type": "stream",
     "text": [
      "Loading data... \n",
      "10CV Training... \n",
      "F1-Score 10CV: [1. 1. 1. 1. 1. 1. 1. 1. 1. 1.]\n",
      "F1-Score avg: 1.0\n",
      "F1-Score std. dev. : 0.0\n",
      "Training...\n",
      "Testing... \n",
      "Suport Vectors: [14 13]\n",
      "\n",
      "ML Metrics\n"
     ]
    },
    {
     "data": {
      "text/plain": "<Figure size 300x300 with 2 Axes>",
      "image/png": "[encoded data removed]"
     },
     "metadata": {},
     "output_type": "display_data"
    },
    {
     "name": "stdout",
     "output_type": "stream",
     "text": [
      "   Accuracy  Precision  Recall  F1-Score  Support\n",
      "0    0.9987     0.9985  0.9997    0.9991  1311105\n",
      "1    0.9987     0.9992  0.9963    0.9977   543811\n",
      "FPR = 0.00033483206913252563\n",
      "FNR = 0.003707170322042033\n",
      "AUC = 0.9979789988044127\n",
      "\n",
      "CLASSIFICATION ERRORS: \n",
      "                            errors  error_percent\n",
      "BENIGN                         439       0.000335\n",
      "Bot                           1966       1.000000\n",
      "DDoS                             3       0.000023\n",
      "DoS GoldenEye                    0       0.000000\n",
      "DoS Hulk                         0       0.000000\n",
      "DoS Slowhttptest                 0       0.000000\n",
      "DoS slowloris                    0       0.000000\n",
      "Heartbleed                      11       1.000000\n",
      "Infiltration                    36       1.000000\n",
      "PortScan                         0       0.000000\n",
      "Web Attack – Brute Force         0       0.000000\n",
      "Web Attack – Sql Injection       0       0.000000\n",
      "Web Attack – XSS                 0       0.000000\n"
     ]
    }
   ],
   "source": [
    "sigma = '0'\n",
    "mode = 0\n",
    "start_SVM(sigma, mode, subdir_name)"
   ],
   "metadata": {
    "collapsed": false,
    "ExecuteTime": {
     "end_time": "2023-09-26T14:43:41.322611Z",
     "start_time": "2023-09-26T14:43:26.327758Z"
    }
   }
  },
  {
   "cell_type": "markdown",
   "source": [
    "## Mode 1"
   ],
   "metadata": {
    "collapsed": false
   }
  },
  {
   "cell_type": "code",
   "execution_count": 12,
   "outputs": [
    {
     "name": "stdout",
     "output_type": "stream",
     "text": [
      "Loading data... \n",
      "10CV Training... \n",
      "F1-Score 10CV: [1. 1. 1. 1. 1. 1. 1. 1. 1. 1.]\n",
      "F1-Score avg: 1.0\n",
      "F1-Score std. dev. : 0.0\n",
      "Training...\n",
      "Testing... \n",
      "Suport Vectors: [141 141]\n",
      "\n",
      "ML Metrics\n"
     ]
    },
    {
     "data": {
      "text/plain": "<Figure size 300x300 with 2 Axes>",
      "image/png": "[encoded data removed]"
     },
     "metadata": {},
     "output_type": "display_data"
    },
    {
     "name": "stdout",
     "output_type": "stream",
     "text": [
      "   Accuracy  Precision  Recall  F1-Score  Support\n",
      "0    0.9988     0.9985  0.9999    0.9992  1311105\n",
      "1    0.9988     0.9998  0.9963    0.9980   543811\n",
      "FPR = 0.00010144115078502484\n",
      "FNR = 0.003707170322042033\n",
      "AUC = 0.9980956942635865\n",
      "\n",
      "CLASSIFICATION ERRORS: \n",
      "                            errors  error_percent\n",
      "BENIGN                         133       0.000101\n",
      "Bot                           1966       1.000000\n",
      "DDoS                             3       0.000023\n",
      "DoS GoldenEye                    0       0.000000\n",
      "DoS Hulk                         0       0.000000\n",
      "DoS Slowhttptest                 0       0.000000\n",
      "DoS slowloris                    0       0.000000\n",
      "Heartbleed                      11       1.000000\n",
      "Infiltration                    36       1.000000\n",
      "PortScan                         0       0.000000\n",
      "Web Attack – Brute Force         0       0.000000\n",
      "Web Attack – Sql Injection       0       0.000000\n",
      "Web Attack – XSS                 0       0.000000\n"
     ]
    }
   ],
   "source": [
    "sigma = '0'\n",
    "mode = 1\n",
    "start_SVM(sigma, mode, subdir_name)"
   ],
   "metadata": {
    "collapsed": false,
    "ExecuteTime": {
     "end_time": "2023-09-26T14:44:10.604022Z",
     "start_time": "2023-09-26T14:43:41.322235Z"
    }
   }
  },
  {
   "cell_type": "markdown",
   "source": [
    "## Mode 2"
   ],
   "metadata": {
    "collapsed": false
   }
  },
  {
   "cell_type": "code",
   "execution_count": 13,
   "outputs": [
    {
     "name": "stdout",
     "output_type": "stream",
     "text": [
      "Loading data... \n",
      "10CV Training... \n",
      "F1-Score 10CV: [1. 1. 1. 1. 1. 1. 1. 1. 1. 1.]\n",
      "F1-Score avg: 1.0\n",
      "F1-Score std. dev. : 0.0\n",
      "Training...\n",
      "Testing... \n",
      "Suport Vectors: [141 141]\n",
      "\n",
      "ML Metrics\n"
     ]
    },
    {
     "data": {
      "text/plain": "<Figure size 300x300 with 2 Axes>",
      "image/png": "[encoded data removed]"
     },
     "metadata": {},
     "output_type": "display_data"
    },
    {
     "name": "stdout",
     "output_type": "stream",
     "text": [
      "   Accuracy  Precision  Recall  F1-Score  Support\n",
      "0    0.9988     0.9985  0.9999    0.9992  1311105\n",
      "1    0.9988     0.9998  0.9963    0.9980   543811\n",
      "FPR = 0.00010144115078502484\n",
      "FNR = 0.003707170322042033\n",
      "AUC = 0.9980956942635865\n",
      "\n",
      "CLASSIFICATION ERRORS: \n",
      "                            errors  error_percent\n",
      "BENIGN                         133       0.000101\n",
      "Bot                           1966       1.000000\n",
      "DDoS                             3       0.000023\n",
      "DoS GoldenEye                    0       0.000000\n",
      "DoS Hulk                         0       0.000000\n",
      "DoS Slowhttptest                 0       0.000000\n",
      "DoS slowloris                    0       0.000000\n",
      "Heartbleed                      11       1.000000\n",
      "Infiltration                    36       1.000000\n",
      "PortScan                         0       0.000000\n",
      "Web Attack – Brute Force         0       0.000000\n",
      "Web Attack – Sql Injection       0       0.000000\n",
      "Web Attack – XSS                 0       0.000000\n"
     ]
    }
   ],
   "source": [
    "sigma = '0'\n",
    "mode = 2\n",
    "start_SVM(sigma, mode, subdir_name)"
   ],
   "metadata": {
    "collapsed": false,
    "ExecuteTime": {
     "end_time": "2023-09-26T14:44:39.831354Z",
     "start_time": "2023-09-26T14:44:10.603320Z"
    }
   }
  }
 ],
 "metadata": {
  "kernelspec": {
   "display_name": "Python 3",
   "language": "python",
   "name": "python3"
  },
  "language_info": {
   "codemirror_mode": {
    "name": "ipython",
    "version": 2
   },
   "file_extension": ".py",
   "mimetype": "text/x-python",
   "name": "python",
   "nbconvert_exporter": "python",
   "pygments_lexer": "ipython2",
   "version": "2.7.6"
  }
 },
 "nbformat": 4,
 "nbformat_minor": 0
}
